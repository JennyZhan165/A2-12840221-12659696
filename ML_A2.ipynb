{
  "nbformat": 4,
  "nbformat_minor": 0,
  "metadata": {
    "colab": {
      "name": "ML A2.ipynb",
      "provenance": [],
      "collapsed_sections": [],
      "machine_shape": "hm",
      "include_colab_link": true
    },
    "kernelspec": {
      "name": "python3",
      "display_name": "Python 3"
    }
  },
  "cells": [
    {
      "cell_type": "markdown",
      "metadata": {
        "id": "view-in-github",
        "colab_type": "text"
      },
      "source": [
        "<a href=\"https://colab.research.google.com/github/JennyZhan165/A2-12840221-12659696/blob/master/ML_A2.ipynb\" target=\"_parent\"><img src=\"https://colab.research.google.com/assets/colab-badge.svg\" alt=\"Open In Colab\"/></a>"
      ]
    },
    {
      "cell_type": "markdown",
      "metadata": {
        "id": "LLg5gpJU1d6G",
        "colab_type": "text"
      },
      "source": [
        "#Assignment 2: Practical Machine Learning Project\n",
        "## Group member: 12840221 Yunhan Zhan / 12659696 Chaoran Fu"
      ]
    },
    {
      "cell_type": "markdown",
      "metadata": {
        "id": "1eNZj8EQ4d-H",
        "colab_type": "text"
      },
      "source": [
        "### Github link: <>\n",
        "### Youtube Video link:<https://www.youtube.com/watch?v=6kUn-R1DlB0&feature=youtu.be>\n",
        "### Dataset link:  <https://www.kaggle.com/russellyates88/suicide-rates-overview-1985-to-2016/downloads/suicide-rates-overview-1985-to-2016.zip/1>"
      ]
    },
    {
      "cell_type": "markdown",
      "metadata": {
        "id": "QRQPBB0g4uWz",
        "colab_type": "text"
      },
      "source": [
        "## 1. Introduction\n",
        "### 1.1 Define problem\n",
        "\n",
        "The dataset that we used for this project is called ‘Suicide Rates Overview 1985 to 2016’ from Kaggle. There are 12 columns totally: country, year, sex, age, suicides_no, population, suicides/100k pop, country-year, HDI for year, gdp_for_year, gdp_per_capita and generation. The main data mining problem that we found is to deal with predicting the feature of suicides_no which means the number of suicides under specific conditions. \n",
        "\n",
        "### 1.2 Discuss the Algorithm\n",
        "\n",
        "Python will be the main language in the following processing to solve the problem. Colab will be the environment for us to implement machine learning project. Additionally, this report will use few machine learning software libraries, such as scikit-learn, np and panda.\n",
        "\n",
        "There are different regressors that can be used to predict suicides_no, for instance, Decision Tree, Random Forest and Support Vector Regression. Eventually, we will compare the accuracy rate for each of the models in order to choose the most suitable model. Additionally, before we build each regressors, for prediction purpose, we are supposed to split the dataset into two parts, one is training data, and another is testing data. In this project, I will set 80% of the training data and 20% for the testing data as default.\n",
        "\n",
        "The main purpose of this data mining project is to provide input columns that can correctly produce an output of suicides_no by using accurate regressors. However, few columns such as, 'HID for year' and 'country-year' are filtered from the processing because these columns are irrelevant values or have a huge number of missing values that won’t help us to predict the target value. After analysis this dataset, the input of the data mining projects will be country, year, sex, age, population, suicides_no, suicides/100k pop, generation, gdp_for_year and gdp_per_capita. Then, the suicides_no will be the output of the algorithm. In the following part, many data pre-processing steps were used to drop of those useless values and also fully preparation and transform before passing the dataset to models. Except from that, correlation is a method that was used to assist with checking how strong each relationship is between those features after preparation."
      ]
    },
    {
      "cell_type": "markdown",
      "metadata": {
        "id": "J_p8fhyY41JB",
        "colab_type": "text"
      },
      "source": [
        "##2. Exploration\n"
      ]
    },
    {
      "cell_type": "code",
      "metadata": {
        "id": "4XyJg6oIT5Gr",
        "colab_type": "code",
        "colab": {
          "base_uri": "https://localhost:8080/",
          "height": 221
        },
        "outputId": "550ff3da-caea-4a75-ef6d-34e0d35eae79"
      },
      "source": [
        "from google.colab import drive\n",
        "\n",
        "drive.mount('/content/gdrive')\n",
        "dataset = panda.read_csv( \"/content/gdrive/My Drive/master.csv\")\n",
        "dataset=dataset.rename(columns={'suicides/100k pop':'suicides100kPop','HDI for year':'HDIForYear',' gdp_for_year ($) ':'GdpForYearMoney',\n",
        "                          'gdp_per_capita ($)':'GdpPerCapitalMoney'})\n",
        "dataset.head()"
      ],
      "execution_count": 218,
      "outputs": [
        {
          "output_type": "stream",
          "text": [
            "Drive already mounted at /content/gdrive; to attempt to forcibly remount, call drive.mount(\"/content/gdrive\", force_remount=True).\n"
          ],
          "name": "stdout"
        },
        {
          "output_type": "execute_result",
          "data": {
            "text/html": [
              "<div>\n",
              "<style scoped>\n",
              "    .dataframe tbody tr th:only-of-type {\n",
              "        vertical-align: middle;\n",
              "    }\n",
              "\n",
              "    .dataframe tbody tr th {\n",
              "        vertical-align: top;\n",
              "    }\n",
              "\n",
              "    .dataframe thead th {\n",
              "        text-align: right;\n",
              "    }\n",
              "</style>\n",
              "<table border=\"1\" class=\"dataframe\">\n",
              "  <thead>\n",
              "    <tr style=\"text-align: right;\">\n",
              "      <th></th>\n",
              "      <th>country</th>\n",
              "      <th>year</th>\n",
              "      <th>sex</th>\n",
              "      <th>age</th>\n",
              "      <th>suicides_no</th>\n",
              "      <th>population</th>\n",
              "      <th>suicides100kPop</th>\n",
              "      <th>country-year</th>\n",
              "      <th>HDIForYear</th>\n",
              "      <th>GdpForYearMoney</th>\n",
              "      <th>GdpPerCapitalMoney</th>\n",
              "      <th>generation</th>\n",
              "    </tr>\n",
              "  </thead>\n",
              "  <tbody>\n",
              "    <tr>\n",
              "      <th>0</th>\n",
              "      <td>Albania</td>\n",
              "      <td>1987</td>\n",
              "      <td>male</td>\n",
              "      <td>15-24 years</td>\n",
              "      <td>21</td>\n",
              "      <td>312900</td>\n",
              "      <td>6.71</td>\n",
              "      <td>Albania1987</td>\n",
              "      <td>NaN</td>\n",
              "      <td>2,156,624,900</td>\n",
              "      <td>796</td>\n",
              "      <td>Generation X</td>\n",
              "    </tr>\n",
              "    <tr>\n",
              "      <th>1</th>\n",
              "      <td>Albania</td>\n",
              "      <td>1987</td>\n",
              "      <td>male</td>\n",
              "      <td>35-54 years</td>\n",
              "      <td>16</td>\n",
              "      <td>308000</td>\n",
              "      <td>5.19</td>\n",
              "      <td>Albania1987</td>\n",
              "      <td>NaN</td>\n",
              "      <td>2,156,624,900</td>\n",
              "      <td>796</td>\n",
              "      <td>Silent</td>\n",
              "    </tr>\n",
              "    <tr>\n",
              "      <th>2</th>\n",
              "      <td>Albania</td>\n",
              "      <td>1987</td>\n",
              "      <td>female</td>\n",
              "      <td>15-24 years</td>\n",
              "      <td>14</td>\n",
              "      <td>289700</td>\n",
              "      <td>4.83</td>\n",
              "      <td>Albania1987</td>\n",
              "      <td>NaN</td>\n",
              "      <td>2,156,624,900</td>\n",
              "      <td>796</td>\n",
              "      <td>Generation X</td>\n",
              "    </tr>\n",
              "    <tr>\n",
              "      <th>3</th>\n",
              "      <td>Albania</td>\n",
              "      <td>1987</td>\n",
              "      <td>male</td>\n",
              "      <td>75+ years</td>\n",
              "      <td>1</td>\n",
              "      <td>21800</td>\n",
              "      <td>4.59</td>\n",
              "      <td>Albania1987</td>\n",
              "      <td>NaN</td>\n",
              "      <td>2,156,624,900</td>\n",
              "      <td>796</td>\n",
              "      <td>G.I. Generation</td>\n",
              "    </tr>\n",
              "    <tr>\n",
              "      <th>4</th>\n",
              "      <td>Albania</td>\n",
              "      <td>1987</td>\n",
              "      <td>male</td>\n",
              "      <td>25-34 years</td>\n",
              "      <td>9</td>\n",
              "      <td>274300</td>\n",
              "      <td>3.28</td>\n",
              "      <td>Albania1987</td>\n",
              "      <td>NaN</td>\n",
              "      <td>2,156,624,900</td>\n",
              "      <td>796</td>\n",
              "      <td>Boomers</td>\n",
              "    </tr>\n",
              "  </tbody>\n",
              "</table>\n",
              "</div>"
            ],
            "text/plain": [
              "   country  year     sex  ... GdpForYearMoney  GdpPerCapitalMoney       generation\n",
              "0  Albania  1987    male  ...   2,156,624,900                 796     Generation X\n",
              "1  Albania  1987    male  ...   2,156,624,900                 796           Silent\n",
              "2  Albania  1987  female  ...   2,156,624,900                 796     Generation X\n",
              "3  Albania  1987    male  ...   2,156,624,900                 796  G.I. Generation\n",
              "4  Albania  1987    male  ...   2,156,624,900                 796          Boomers\n",
              "\n",
              "[5 rows x 12 columns]"
            ]
          },
          "metadata": {
            "tags": []
          },
          "execution_count": 218
        }
      ]
    },
    {
      "cell_type": "markdown",
      "metadata": {
        "id": "9NOYOQIlT3Dc",
        "colab_type": "text"
      },
      "source": [
        "### 2.1 Challenge\n",
        "\n",
        "The challenges that we faced are quite a lot. On the one hand, heavily analytical work, because of the large size of the dataset and huge time span from 1985 to 2016. On the other hand, because the data mining problem is to predict the number of suicides (suicides_no), so we have to use methods to ignore these irrelevant columns, in order to get a high accuracy models. Apart from that, we are predicting numeric variable instead of categorical, so use regressors, not classifiers. Then, a few columns are supposed to transfer from categorical to numerical since the models only accept numbers.    \n",
        "\n",
        "### 2.2 Data Description\n",
        "#### 2.2.1 country\n",
        "\n",
        "This column means the different names of countries where suicides happened. Moreover, this column is a categorical data type and it has 101 different categories. The highest records are Iceland, Austria, Netherlands and Mauritius categories (382 values), and the lowest record is Mongolia, only has 10 values. Because this column is a categorical value, we can’t use it as an input directly, so data type transferring is required for this column if it can help us to predict the target value. \n",
        "\n",
        "\n",
        "#### 2.2.2 year\n",
        "\n",
        "This column is the year from 1985 to 2016 and it is a discrete data type. In 2009, it had the highest value of suicides and 2016 had the lowest value. Additionally, year can be used as an input for the processing of predicting the number of suicides. \n",
        "\n"
      ]
    },
    {
      "cell_type": "code",
      "metadata": {
        "id": "mGwk_02YVUlc",
        "colab_type": "code",
        "colab": {
          "base_uri": "https://localhost:8080/",
          "height": 301
        },
        "outputId": "a2d7dde0-c7a7-4aaa-f96c-170639316e8c"
      },
      "source": [
        "dataset['year'].value_counts().plot('bar')"
      ],
      "execution_count": 219,
      "outputs": [
        {
          "output_type": "execute_result",
          "data": {
            "text/plain": [
              "<matplotlib.axes._subplots.AxesSubplot at 0x7f3b8f045cc0>"
            ]
          },
          "metadata": {
            "tags": []
          },
          "execution_count": 219
        },
        {
          "output_type": "display_data",
          "data": {
            "image/png": "[encoded data removed]",
            "text/plain": [
              "<Figure size 432x288 with 1 Axes>"
            ]
          },
          "metadata": {
            "tags": []
          }
        }
      ]
    },
    {
      "cell_type": "markdown",
      "metadata": {
        "id": "gKWRCWkpUZjU",
        "colab_type": "text"
      },
      "source": [
        "#### 2.2.3 sex\n",
        "\n",
        "This data is a categorical data type. In the dataset, it has 2 data values, male and female. We can see from the figure that the number of each gender are the same number: 13910.\n"
      ]
    },
    {
      "cell_type": "code",
      "metadata": {
        "id": "AUNmrfUjVcAC",
        "colab_type": "code",
        "colab": {
          "base_uri": "https://localhost:8080/",
          "height": 272
        },
        "outputId": "f4f4916b-5658-4d82-ab50-ffe302bb4375"
      },
      "source": [
        "dataset['sex'].value_counts().plot('pie')"
      ],
      "execution_count": 220,
      "outputs": [
        {
          "output_type": "execute_result",
          "data": {
            "text/plain": [
              "<matplotlib.axes._subplots.AxesSubplot at 0x7f3b8ed59630>"
            ]
          },
          "metadata": {
            "tags": []
          },
          "execution_count": 220
        },
        {
          "output_type": "display_data",
          "data": {
            "image/png": "[encoded data removed]",
            "text/plain": [
              "<Figure size 432x288 with 1 Axes>"
            ]
          },
          "metadata": {
            "tags": []
          }
        }
      ]
    },
    {
      "cell_type": "markdown",
      "metadata": {
        "id": "FESEHTd7UfT_",
        "colab_type": "text"
      },
      "source": [
        "#### 2.2.4 age\n",
        "\n",
        "This data is pretty complicated because it’s a range of the values and consists of numerical and categorical values. It was divided into 6 categories, 5-14 years, 15-24 years, 55-74 years, 25-34 years, 35-54 years and 75+ years. This data can be used in further processing as input and transformation is needed because it combines two data types. \n"
      ]
    },
    {
      "cell_type": "code",
      "metadata": {
        "id": "N5FTy9iNVtM_",
        "colab_type": "code",
        "colab": {
          "base_uri": "https://localhost:8080/",
          "height": 335
        },
        "outputId": "1ccdf46b-ab05-4f30-cc95-6929155c287c"
      },
      "source": [
        "dataset['age'].value_counts().plot('bar')"
      ],
      "execution_count": 221,
      "outputs": [
        {
          "output_type": "execute_result",
          "data": {
            "text/plain": [
              "<matplotlib.axes._subplots.AxesSubplot at 0x7f3b8ec1f128>"
            ]
          },
          "metadata": {
            "tags": []
          },
          "execution_count": 221
        },
        {
          "output_type": "display_data",
          "data": {
            "image/png": "[encoded data removed]",
            "text/plain": [
              "<Figure size 432x288 with 1 Axes>"
            ]
          },
          "metadata": {
            "tags": []
          }
        }
      ]
    },
    {
      "cell_type": "markdown",
      "metadata": {
        "id": "O5tS-hzcUg6k",
        "colab_type": "text"
      },
      "source": [
        "#### 2.2.5 population\n",
        "\n",
        "Population means the number of people in the country at the time of suicide in each period, and also it’s a numerical data. Additionally, because this data can be used to calculate the suicides_no and suicides rate, we consider it as an input data."
      ]
    },
    {
      "cell_type": "code",
      "metadata": {
        "id": "7iDFiZX8ZMZw",
        "colab_type": "code",
        "colab": {
          "base_uri": "https://localhost:8080/",
          "height": 170
        },
        "outputId": "b3b3585b-f167-4d19-e2fc-df79cb1b9f45"
      },
      "source": [
        "dataset['population'].describe()"
      ],
      "execution_count": 222,
      "outputs": [
        {
          "output_type": "execute_result",
          "data": {
            "text/plain": [
              "count    2.782000e+04\n",
              "mean     1.844794e+06\n",
              "std      3.911779e+06\n",
              "min      2.780000e+02\n",
              "25%      9.749850e+04\n",
              "50%      4.301500e+05\n",
              "75%      1.486143e+06\n",
              "max      4.380521e+07\n",
              "Name: population, dtype: float64"
            ]
          },
          "metadata": {
            "tags": []
          },
          "execution_count": 222
        }
      ]
    },
    {
      "cell_type": "markdown",
      "metadata": {
        "id": "uI30_FAmUiq9",
        "colab_type": "text"
      },
      "source": [
        "#### 2.2.6 suicide_no\n",
        "\n",
        "This column is a numerical data type and it records the number of suicides in a particular phase. The mean value is 242.57, and standard deviation of this column data is 902.048, the max number is 22338. Suicides_no is used for the output value of the data mining problem, and the accuracy after output are used to compare the accuracy in various algorithms.\n"
      ]
    },
    {
      "cell_type": "code",
      "metadata": {
        "id": "DdrKUxyQVv0o",
        "colab_type": "code",
        "colab": {
          "base_uri": "https://localhost:8080/",
          "height": 170
        },
        "outputId": "0bad2c9f-cbea-4b46-8a9f-9fb3ad995d40"
      },
      "source": [
        "dataset['suicides_no'].describe()"
      ],
      "execution_count": 223,
      "outputs": [
        {
          "output_type": "execute_result",
          "data": {
            "text/plain": [
              "count    27820.000000\n",
              "mean       242.574407\n",
              "std        902.047917\n",
              "min          0.000000\n",
              "25%          3.000000\n",
              "50%         25.000000\n",
              "75%        131.000000\n",
              "max      22338.000000\n",
              "Name: suicides_no, dtype: float64"
            ]
          },
          "metadata": {
            "tags": []
          },
          "execution_count": 223
        }
      ]
    },
    {
      "cell_type": "markdown",
      "metadata": {
        "id": "sJaVVRlKUkkK",
        "colab_type": "text"
      },
      "source": [
        "#### 2.2.7 suicides/100k pop\n",
        "\n",
        "Suicides/100k pop(suicide rate) is a numerical data that is closely related to the population and the suicides_no. Furthermore, the mean of suicide rate is 12.816, and standard deviation is 18.96. Because the suicide rate directly affects the output value suicide number, it will be used as the input value of the data classification. \n"
      ]
    },
    {
      "cell_type": "code",
      "metadata": {
        "id": "Y5h3hADxV3px",
        "colab_type": "code",
        "colab": {
          "base_uri": "https://localhost:8080/",
          "height": 170
        },
        "outputId": "ecb17042-e28d-4d11-bef4-ab060032305d"
      },
      "source": [
        "dataset['suicides100kPop'].describe()"
      ],
      "execution_count": 224,
      "outputs": [
        {
          "output_type": "execute_result",
          "data": {
            "text/plain": [
              "count    27820.000000\n",
              "mean        12.816097\n",
              "std         18.961511\n",
              "min          0.000000\n",
              "25%          0.920000\n",
              "50%          5.990000\n",
              "75%         16.620000\n",
              "max        224.970000\n",
              "Name: suicides100kPop, dtype: float64"
            ]
          },
          "metadata": {
            "tags": []
          },
          "execution_count": 224
        }
      ]
    },
    {
      "cell_type": "markdown",
      "metadata": {
        "id": "LgJUO690Ukdx",
        "colab_type": "text"
      },
      "source": [
        "#### 2.2.8 generation\n",
        "\n",
        "This column has 6 different values and it is a categorical data type. Actually, generation is age-dependent value, G.I. Generation corresponds to people who were born between 1901 and 1927, and Silent corresponds to people who were born between 1925 and 1942 ,and Generation X corresponds to people who were born between 1960 and 1980, and Boomers are people who were born between 1946 and 1964, and Millennials are people who were born between 1980 and early 2000, finally, the mean of Generation Z are people who were born between mid1990 and 2000. Generation X has the most value that is 6408, and generation Z has the lowest value that is 1470.\n"
      ]
    },
    {
      "cell_type": "code",
      "metadata": {
        "id": "6epyFCIEWBy7",
        "colab_type": "code",
        "colab": {
          "base_uri": "https://localhost:8080/",
          "height": 352
        },
        "outputId": "3570cb17-f071-4e24-e316-af012637352c"
      },
      "source": [
        "dataset['generation'].value_counts().plot('bar')"
      ],
      "execution_count": 225,
      "outputs": [
        {
          "output_type": "execute_result",
          "data": {
            "text/plain": [
              "<matplotlib.axes._subplots.AxesSubplot at 0x7f3b8ebb68d0>"
            ]
          },
          "metadata": {
            "tags": []
          },
          "execution_count": 225
        },
        {
          "output_type": "display_data",
          "data": {
            "image/png": "[encoded data removed]",
            "text/plain": [
              "<Figure size 432x288 with 1 Axes>"
            ]
          },
          "metadata": {
            "tags": []
          }
        }
      ]
    },
    {
      "cell_type": "markdown",
      "metadata": {
        "id": "DoPBpUuCUn8V",
        "colab_type": "text"
      },
      "source": [
        "#### 2.2.9 gdp_for_year and gdp_per_capita \n",
        "\n",
        "Gdp_for_year describes Gross Domestic Product at the year of suicides and Gdp_per_captia describes Gross Domestic Product per capita at the year of suicides. These two sets of data are all numerical value. The total GDP can obtain the per capita GDP. Also, both of these data have a high positive correlation with suicides_no so that they are used as input values.\n"
      ]
    },
    {
      "cell_type": "markdown",
      "metadata": {
        "id": "qssSgjUm45yp",
        "colab_type": "text"
      },
      "source": [
        "##3. Methodology\n",
        "### 3.1 Data Pre-Processing\n",
        "#### 3.1.1 Missing value\n",
        "In this dataset, only ‘HDI for year’ has missing values, as shown below, which may reduce the accuracy of models. Because the number of missing values is more than half of the dataset (19,000) so we can’t do simple replacement of this column, then we decided to delete it to ensure the accuracy of models reached the exception.\n",
        "\n"
      ]
    },
    {
      "cell_type": "code",
      "metadata": {
        "id": "6d-g0nYEWSWv",
        "colab_type": "code",
        "colab": {}
      },
      "source": [
        "#Check all the null value in the dataset\n",
        "dataset.isnull().sum()\n",
        "#Because there are more than 50% missing value of HDIForYear, so we drop this column\n",
        "dataset = dataset.drop('HDIForYear',axis=1)"
      ],
      "execution_count": 0,
      "outputs": []
    },
    {
      "cell_type": "markdown",
      "metadata": {
        "id": "IQ794FLCWpkl",
        "colab_type": "text"
      },
      "source": [
        "Furthermore, we give each category an integer value when the data type is categorical. For example, we give the number of the first country to 1, because only integer values can be used in regressions to do the data analytics, then delete the column and append the value to a new column called Transforcountry. Moreover, there are three more datas in the dataset, sex, age and generation, so we do the same conversion as the previous method. \n"
      ]
    },
    {
      "cell_type": "code",
      "metadata": {
        "id": "7w1kV3AjWqk5",
        "colab_type": "code",
        "colab": {}
      },
      "source": [
        "from sklearn.preprocessing import LabelEncoder\n",
        "\n",
        "trans = LabelEncoder()\n",
        "Transforcountry=trans.fit_transform(dataset['country'])\n",
        "transMappings = {index: label for index, label in \n",
        "                  enumerate(trans.classes_)}\n",
        "dataset['Transforcountry'] = Transforcountry\n",
        "dataset.Transforcountry.unique()\n",
        "#Removing the Category column as a column with numbers is appended\n",
        "dataset = dataset.drop('country',axis=1)\n"
      ],
      "execution_count": 0,
      "outputs": []
    },
    {
      "cell_type": "code",
      "metadata": {
        "id": "RXt4PXHtWw_C",
        "colab_type": "code",
        "colab": {}
      },
      "source": [
        "#trans = LabelEncoder()\n",
        "Transforsex=trans.fit_transform(dataset['sex'])\n",
        "transMappings = {index: label for index, label in \n",
        "                  enumerate(trans.classes_)}\n",
        "dataset['Transforsex'] = Transforsex\n",
        "dataset.Transforsex.unique()\n",
        "#Removing the Category column as a column with numbers is appended\n",
        "dataset = dataset.drop('sex',axis=1)\n"
      ],
      "execution_count": 0,
      "outputs": []
    },
    {
      "cell_type": "code",
      "metadata": {
        "id": "7fmOl3RAWxcS",
        "colab_type": "code",
        "colab": {}
      },
      "source": [
        "#trans = LabelEncoder()\n",
        "Transforage=trans.fit_transform(dataset['age'])\n",
        "transMappings = {index: label for index, label in \n",
        "                  enumerate(trans.classes_)}\n",
        "dataset['Transforage'] = Transforage\n",
        "dataset.Transforage.unique()\n",
        "#Removing the Category column as a column with numbers is appended\n",
        "dataset = dataset.drop('age',axis=1)"
      ],
      "execution_count": 0,
      "outputs": []
    },
    {
      "cell_type": "code",
      "metadata": {
        "id": "J-soRLE6Wz47",
        "colab_type": "code",
        "colab": {}
      },
      "source": [
        "#trans = LabelEncoder()\n",
        "Transforgeneration=trans.fit_transform(dataset['generation'])\n",
        "transMappings = {index: label for index, label in \n",
        "                  enumerate(trans.classes_)}\n",
        "dataset['Transforgeneration'] = Transforgeneration\n",
        "dataset.Transforgeneration.unique()\n",
        "dataset = dataset.drop('generation',axis=1)"
      ],
      "execution_count": 0,
      "outputs": []
    },
    {
      "cell_type": "markdown",
      "metadata": {
        "id": "Qjh22CnHWfHl",
        "colab_type": "text"
      },
      "source": [
        "#### 3.1.2 Data Redundancy\n",
        "If we look closer to the dataset, the column ‘country-year’ is the combination of ‘country’ and ‘year’, therefore we can ignore this column if we keep  ‘country’ and ‘year’ as inputs. \n",
        "\n"
      ]
    },
    {
      "cell_type": "code",
      "metadata": {
        "id": "iWOnjlGiXCCb",
        "colab_type": "code",
        "colab": {}
      },
      "source": [
        "#Country-year is similar to the combination of year and country, and becuase keep both, so can drop country-year\n",
        "dataset = dataset.drop('country-year', axis = 1)"
      ],
      "execution_count": 0,
      "outputs": []
    },
    {
      "cell_type": "markdown",
      "metadata": {
        "id": "gFmfp7nEXF6U",
        "colab_type": "text"
      },
      "source": [
        "Additionally, there are more than 4000 columns of suicides_no and suicides rate (suicides100kPop). In order to enhance the accuracy of models, we can try to drop these rows which includes zero values.\n"
      ]
    },
    {
      "cell_type": "code",
      "metadata": {
        "id": "Mr87rCiWXIfd",
        "colab_type": "code",
        "colab": {}
      },
      "source": [
        "# drop all the zero values in suicides_no\n",
        "dataset = dataset[(dataset[['suicides_no','suicides100kPop']] != 0).all(axis=1)]"
      ],
      "execution_count": 0,
      "outputs": []
    },
    {
      "cell_type": "markdown",
      "metadata": {
        "id": "PSgtbDLTXM_n",
        "colab_type": "text"
      },
      "source": [
        "In addition to deal with columns, this dataset contains few unnecessary characters, for instance, the ‘,’ in the column of ‘GdpForYearMoney’, and Python cannot do statistics of these characters, so we use the following code to delete them.\n"
      ]
    },
    {
      "cell_type": "code",
      "metadata": {
        "id": "A6Fto2QaXNTX",
        "colab_type": "code",
        "colab": {}
      },
      "source": [
        "#to delete the symbol in the dataset\n",
        "checksymbol = dataset.columns\n",
        "dataset[checksymbol]=dataset[checksymbol].replace({'\\,':''}, regex = True)"
      ],
      "execution_count": 0,
      "outputs": []
    },
    {
      "cell_type": "markdown",
      "metadata": {
        "id": "ywl4L6_AWQDH",
        "colab_type": "text"
      },
      "source": [
        "#### 3.1.3 Data type conversion and appending the column\n",
        "As we can see below, the initial datatype of the entire dataset, for few columns, the data type of country, age, sex and generation is object as default. Since models only accept numeric input, transfer the data type of these columns from category to numerical is necessary. \n",
        "\n"
      ]
    },
    {
      "cell_type": "code",
      "metadata": {
        "id": "QsEPnI57Wf14",
        "colab_type": "code",
        "colab": {
          "base_uri": "https://localhost:8080/",
          "height": 204
        },
        "outputId": "7b503267-900a-4d8b-da4f-cb8d72f685ec"
      },
      "source": [
        "#Check the datatype of each features\n",
        "dataset.dtypes"
      ],
      "execution_count": 234,
      "outputs": [
        {
          "output_type": "execute_result",
          "data": {
            "text/plain": [
              "year                    int64\n",
              "suicides_no             int64\n",
              "population              int64\n",
              "suicides100kPop       float64\n",
              "GdpForYearMoney        object\n",
              "GdpPerCapitalMoney      int64\n",
              "Transforcountry         int64\n",
              "Transforsex             int64\n",
              "Transforage             int64\n",
              "Transforgeneration      int64\n",
              "dtype: object"
            ]
          },
          "metadata": {
            "tags": []
          },
          "execution_count": 234
        }
      ]
    },
    {
      "cell_type": "code",
      "metadata": {
        "id": "gV-f7t0icJeC",
        "colab_type": "code",
        "colab": {}
      },
      "source": [
        "#change GdpForYearMoney to int\n",
        "dataset['GdpForYearMoney'] = dataset.GdpForYearMoney.astype(int)"
      ],
      "execution_count": 0,
      "outputs": []
    },
    {
      "cell_type": "markdown",
      "metadata": {
        "id": "uljPU0auW8Ut",
        "colab_type": "text"
      },
      "source": [
        "### 3.2 Implement Algorithm\n",
        "#### 3.2.1 Decision Tree\n",
        "\n",
        "Decision tree is a data analytics method that is used for regression analysis. Also, Decision tree always produce high accuracy and only accepts numeric input. In the previous section, we did data type conversion and data redundancy to gain the correct format of input data.\n",
        "\n",
        "Firstly, we create two lists X and Y, and then we insert the whole prepared dataset without the data ‘suicides100kPop’ from X and then keep ‘suicides100kPop’ in list Y. In the next step, we partition the X and Y to X training, X testing, and Y training and Y testing, and we divide 20% data to testing data, and then use an internal random number generator to choose 100 data randomly. The below code shows the accuracy of the Decision Tree. The accuracy of Decision tree classifier is 99.9% \n"
      ]
    },
    {
      "cell_type": "code",
      "metadata": {
        "id": "-bT7Jy3GXVHm",
        "colab_type": "code",
        "colab": {}
      },
      "source": [
        "from sklearn.tree import DecisionTreeRegressor\n",
        "from sklearn.metrics import r2_score\n",
        "\n",
        "#Partitioning data\n",
        "X= dataset.drop('suicides_no',axis=1)\n",
        "Y= dataset['suicides_no']\n",
        "# testing and training data of decision tree\n",
        "dt_Xtraining, dt_Xtesting, dt_Ytraining, dt_Ytesting = train_test_split(X, Y, test_size=0.20, random_state = 100) \n",
        "model =  DecisionTreeRegressor(random_state= 100)\n",
        "model.fit(dt_Xtraining, dt_Ytraining)\n",
        "y_pred = model.predict(X) "
      ],
      "execution_count": 0,
      "outputs": []
    },
    {
      "cell_type": "code",
      "metadata": {
        "id": "F7NSLbvmdEO_",
        "colab_type": "code",
        "colab": {
          "base_uri": "https://localhost:8080/",
          "height": 34
        },
        "outputId": "d53784c2-3b25-4da4-9fe0-856049fdb356"
      },
      "source": [
        "#Accuracy for Decision Tree\n",
        "print(\"Accuracy for Decision Tree:\", r2_score(Y, y_pred))"
      ],
      "execution_count": 237,
      "outputs": [
        {
          "output_type": "stream",
          "text": [
            "Accuracy for Decision Tree: 0.9991121948787185\n"
          ],
          "name": "stdout"
        }
      ]
    },
    {
      "cell_type": "markdown",
      "metadata": {
        "id": "5cl8LV7aXUaS",
        "colab_type": "text"
      },
      "source": [
        "#### 3.2.2 Random Forest\n",
        "\n",
        "Random forest can also be used for regression analysis. Random forest model is a supervised learning method that creates a bunch of random trees that predict processes. Most parameters are similar to decision tree. In this classifier, Random forest model uses bootstrap sampling to select from the test set to make the deviation of the results smaller.\n",
        "\n",
        "In the next step, we partition the X and Y to X training, X testing, and Y training and Y testing, and we give 20% data to testing data, and we use an internal random number generator to choose 100 data randomly. The below code shows the accuracy of the Random Forest Regressor. The accuracy of Random Forest is 68.6%\n"
      ]
    },
    {
      "cell_type": "code",
      "metadata": {
        "id": "3MllJquaYDqS",
        "colab_type": "code",
        "colab": {
          "base_uri": "https://localhost:8080/",
          "height": 136
        },
        "outputId": "3e7dcec2-923c-4250-96fb-6a19fc88b241"
      },
      "source": [
        "from sklearn.ensemble import RandomForestRegressor\n",
        "#from sklearn.datasets import make_regression\n",
        "\n",
        "rf_Xtrainging, rf_Xtesting, rf_Ytraining, rf_Ytesting = train_test_split(X, Y, test_size=0.20, random_state = 100) \n",
        "regr = RandomForestRegressor(max_depth=2, random_state=0,n_estimators=100)\n",
        "regr.fit(rf_Xtrainging, rf_Ytraining)"
      ],
      "execution_count": 238,
      "outputs": [
        {
          "output_type": "execute_result",
          "data": {
            "text/plain": [
              "RandomForestRegressor(bootstrap=True, criterion='mse', max_depth=2,\n",
              "                      max_features='auto', max_leaf_nodes=None,\n",
              "                      min_impurity_decrease=0.0, min_impurity_split=None,\n",
              "                      min_samples_leaf=1, min_samples_split=2,\n",
              "                      min_weight_fraction_leaf=0.0, n_estimators=100,\n",
              "                      n_jobs=None, oob_score=False, random_state=0, verbose=0,\n",
              "                      warm_start=False)"
            ]
          },
          "metadata": {
            "tags": []
          },
          "execution_count": 238
        }
      ]
    },
    {
      "cell_type": "code",
      "metadata": {
        "id": "aBO6iJ_vdoih",
        "colab_type": "code",
        "colab": {
          "base_uri": "https://localhost:8080/",
          "height": 34
        },
        "outputId": "0fd9ef91-257c-4978-d8ce-638d74c1f00b"
      },
      "source": [
        "print(\"Accuracy for Random-Forest:\", r2_score(Y, regr.predict(X)))"
      ],
      "execution_count": 239,
      "outputs": [
        {
          "output_type": "stream",
          "text": [
            "Accuracy for Random-Forest: 0.6865944579475496\n"
          ],
          "name": "stdout"
        }
      ]
    },
    {
      "cell_type": "markdown",
      "metadata": {
        "id": "J3HK60ctXqxW",
        "colab_type": "text"
      },
      "source": [
        "#### 3.2.3 Support Vector Regression\n",
        "\n",
        "The last regression method that we used is Support Vector Regression (SVR) which can maintain the maximum margin of all significant features of the algorithm. We partitioned the X and Y to X training, X testing, and Y training and Y testing, and we give 20% data to testing data, so there are 5564 values in the testing dataset. We use all the parameters as default and the accuracy of Support Vector Regression is very bad.\n",
        "\n"
      ]
    },
    {
      "cell_type": "code",
      "metadata": {
        "id": "ND1Ezy1fXrcN",
        "colab_type": "code",
        "colab": {
          "base_uri": "https://localhost:8080/",
          "height": 85
        },
        "outputId": "f32f03e5-579f-419d-cffe-e6b125f7d0a2"
      },
      "source": [
        "X_training, X_testing, Y_training, Y_testing = train_test_split(X, Y, test_size=0.20, random_state = 100)\n",
        "print('Training Features Shape:', X_training.shape)\n",
        "print('Training Labels Shape:', Y_training.shape)\n",
        "print('Testing Features Shape:', X_testing.shape)\n",
        "print('Testing Labels Shape:', Y_testing.shape)\n",
        "from sklearn.svm import SVR\n",
        "import numpy as np\n",
        "\n",
        "clf = SVR(gamma = 'scale', C = 50.0, epsilon = 0.5)\n",
        "clf.fit(dt_Xtraining,dt_Ytraining)\n",
        "y_pred = clf.predict(X)"
      ],
      "execution_count": 240,
      "outputs": [
        {
          "output_type": "stream",
          "text": [
            "Training Features Shape: (18831, 9)\n",
            "Training Labels Shape: (18831,)\n",
            "Testing Features Shape: (4708, 9)\n",
            "Testing Labels Shape: (4708,)\n"
          ],
          "name": "stdout"
        }
      ]
    },
    {
      "cell_type": "code",
      "metadata": {
        "id": "3ouglNmFcfzX",
        "colab_type": "code",
        "colab": {
          "base_uri": "https://localhost:8080/",
          "height": 34
        },
        "outputId": "3b264b74-de4c-417d-f910-35babf50950a"
      },
      "source": [
        "print(\"Accuracy for SVR:\", r2_score(Y, y_pred)) "
      ],
      "execution_count": 241,
      "outputs": [
        {
          "output_type": "stream",
          "text": [
            "Accuracy for SVR: 0.1308785360039908\n"
          ],
          "name": "stdout"
        }
      ]
    },
    {
      "cell_type": "markdown",
      "metadata": {
        "id": "qs5gldcR5Ufe",
        "colab_type": "text"
      },
      "source": [
        "## 4. Evaluation\n",
        "\n",
        "Decision Tree has disadvantages. Because it makes the optimal decision at every step, choosing the best result in a given step does not ensure that the prediction is always optimal. When any parameter changed, the accuracy of Decision Tree is still more than 90%.\n",
        "\n",
        "In terms of Random Forest, many scholars believe that Random Forest model is powerful classification and regression analytics too, and this regressor is much more powerful than a single decision tree. Moreover, because the same features will be selected in many base trees, if we do not select features randomly, Random Forest will bring us insurmountable problems.\n",
        "\n",
        "Support Vector Regression is related learning algorithms, analysing data, so it is also perfect for doing regression and classification analytics, but we can see through the result, this model may not be suitable for this data. \n",
        "\n",
        "In order to improve the accuracy of SVR, we modified the parameter. The accuracy of Support Vector Regression (C is 1) is 3.9%, and when C is 50, the accuracy is 13%, as we mentioned eariler. Through experiments, we found that the larger the C value, the higher the accuracy, and this is because the classifier in SVG will make as few mistakes as possible, but large C value will lead to overfitting. We found that the C value between 50-100 is the best result.\n"
      ]
    },
    {
      "cell_type": "code",
      "metadata": {
        "id": "g7Ut5gPhYbpf",
        "colab_type": "code",
        "colab": {}
      },
      "source": [
        "from sklearn.svm import SVR\n",
        "import numpy as np\n",
        "\n",
        "clf = SVR(gamma = 'scale', C = 1.0, epsilon = 0.5)\n",
        "clf.fit(dt_Xtraining,dt_Ytraining)\n",
        "y_pred = clf.predict(X)"
      ],
      "execution_count": 0,
      "outputs": []
    },
    {
      "cell_type": "code",
      "metadata": {
        "id": "eBiHoMhAdxno",
        "colab_type": "code",
        "colab": {
          "base_uri": "https://localhost:8080/",
          "height": 34
        },
        "outputId": "6e7c5a68-b43a-489d-be8c-0a9ceda3c42f"
      },
      "source": [
        "print(\"Accuracy for SVR:\", r2_score(Y, y_pred)) "
      ],
      "execution_count": 243,
      "outputs": [
        {
          "output_type": "stream",
          "text": [
            "Accuracy for SVR: 0.03916746663196036\n"
          ],
          "name": "stdout"
        }
      ]
    },
    {
      "cell_type": "markdown",
      "metadata": {
        "id": "iFA6PdmDYySq",
        "colab_type": "text"
      },
      "source": [
        "In order to consider different situations to compare the accuracy, less relevant columns with the target values can be ignored, following is the figure of correlation matrix after data pre-processing. The correlation between target value suicides_no and ‘year’ is only 0.004146 so we can consider it as an outlier. After we drop the column of ‘year’ in the input, the accuracy of each regressor are slightly decreased. Therefore, we decided to keep ‘year’ feature."
      ]
    },
    {
      "cell_type": "code",
      "metadata": {
        "id": "7oGXpfXBY0Wb",
        "colab_type": "code",
        "colab": {
          "base_uri": "https://localhost:8080/",
          "height": 379
        },
        "outputId": "c8befda9-92f4-4ec7-9a76-61cdefe812ab"
      },
      "source": [
        "dataset.corr(method='spearman')"
      ],
      "execution_count": 244,
      "outputs": [
        {
          "output_type": "execute_result",
          "data": {
            "text/html": [
              "<div>\n",
              "<style scoped>\n",
              "    .dataframe tbody tr th:only-of-type {\n",
              "        vertical-align: middle;\n",
              "    }\n",
              "\n",
              "    .dataframe tbody tr th {\n",
              "        vertical-align: top;\n",
              "    }\n",
              "\n",
              "    .dataframe thead th {\n",
              "        text-align: right;\n",
              "    }\n",
              "</style>\n",
              "<table border=\"1\" class=\"dataframe\">\n",
              "  <thead>\n",
              "    <tr style=\"text-align: right;\">\n",
              "      <th></th>\n",
              "      <th>year</th>\n",
              "      <th>suicides_no</th>\n",
              "      <th>population</th>\n",
              "      <th>suicides100kPop</th>\n",
              "      <th>GdpForYearMoney</th>\n",
              "      <th>GdpPerCapitalMoney</th>\n",
              "      <th>Transforcountry</th>\n",
              "      <th>Transforsex</th>\n",
              "      <th>Transforage</th>\n",
              "      <th>Transforgeneration</th>\n",
              "    </tr>\n",
              "  </thead>\n",
              "  <tbody>\n",
              "    <tr>\n",
              "      <th>year</th>\n",
              "      <td>1.000000</td>\n",
              "      <td>-0.011497</td>\n",
              "      <td>0.008853</td>\n",
              "      <td>-0.046190</td>\n",
              "      <td>0.203511</td>\n",
              "      <td>0.336439</td>\n",
              "      <td>0.021220</td>\n",
              "      <td>0.000864</td>\n",
              "      <td>-0.001653</td>\n",
              "      <td>0.244788</td>\n",
              "    </tr>\n",
              "    <tr>\n",
              "      <th>suicides_no</th>\n",
              "      <td>-0.011497</td>\n",
              "      <td>1.000000</td>\n",
              "      <td>0.702524</td>\n",
              "      <td>0.546282</td>\n",
              "      <td>0.578116</td>\n",
              "      <td>0.122907</td>\n",
              "      <td>0.062630</td>\n",
              "      <td>0.199559</td>\n",
              "      <td>-0.063591</td>\n",
              "      <td>-0.097829</td>\n",
              "    </tr>\n",
              "    <tr>\n",
              "      <th>population</th>\n",
              "      <td>0.008853</td>\n",
              "      <td>0.702524</td>\n",
              "      <td>1.000000</td>\n",
              "      <td>-0.147747</td>\n",
              "      <td>0.730791</td>\n",
              "      <td>0.079644</td>\n",
              "      <td>0.056472</td>\n",
              "      <td>-0.079179</td>\n",
              "      <td>-0.145925</td>\n",
              "      <td>-0.057434</td>\n",
              "    </tr>\n",
              "    <tr>\n",
              "      <th>suicides100kPop</th>\n",
              "      <td>-0.046190</td>\n",
              "      <td>0.546282</td>\n",
              "      <td>-0.147747</td>\n",
              "      <td>1.000000</td>\n",
              "      <td>-0.034768</td>\n",
              "      <td>0.085478</td>\n",
              "      <td>0.037863</td>\n",
              "      <td>0.454473</td>\n",
              "      <td>0.136992</td>\n",
              "      <td>-0.061426</td>\n",
              "    </tr>\n",
              "    <tr>\n",
              "      <th>GdpForYearMoney</th>\n",
              "      <td>0.203511</td>\n",
              "      <td>0.578116</td>\n",
              "      <td>0.730791</td>\n",
              "      <td>-0.034768</td>\n",
              "      <td>1.000000</td>\n",
              "      <td>0.646972</td>\n",
              "      <td>0.062476</td>\n",
              "      <td>-0.043888</td>\n",
              "      <td>0.037914</td>\n",
              "      <td>0.064508</td>\n",
              "    </tr>\n",
              "    <tr>\n",
              "      <th>GdpPerCapitalMoney</th>\n",
              "      <td>0.336439</td>\n",
              "      <td>0.122907</td>\n",
              "      <td>0.079644</td>\n",
              "      <td>0.085478</td>\n",
              "      <td>0.646972</td>\n",
              "      <td>1.000000</td>\n",
              "      <td>0.025544</td>\n",
              "      <td>-0.000503</td>\n",
              "      <td>0.001461</td>\n",
              "      <td>0.071380</td>\n",
              "    </tr>\n",
              "    <tr>\n",
              "      <th>Transforcountry</th>\n",
              "      <td>0.021220</td>\n",
              "      <td>0.062630</td>\n",
              "      <td>0.056472</td>\n",
              "      <td>0.037863</td>\n",
              "      <td>0.062476</td>\n",
              "      <td>0.025544</td>\n",
              "      <td>1.000000</td>\n",
              "      <td>-0.007434</td>\n",
              "      <td>0.004131</td>\n",
              "      <td>0.010396</td>\n",
              "    </tr>\n",
              "    <tr>\n",
              "      <th>Transforsex</th>\n",
              "      <td>0.000864</td>\n",
              "      <td>0.199559</td>\n",
              "      <td>-0.079179</td>\n",
              "      <td>0.454473</td>\n",
              "      <td>-0.043888</td>\n",
              "      <td>-0.000503</td>\n",
              "      <td>-0.007434</td>\n",
              "      <td>1.000000</td>\n",
              "      <td>0.005495</td>\n",
              "      <td>0.003555</td>\n",
              "    </tr>\n",
              "    <tr>\n",
              "      <th>Transforage</th>\n",
              "      <td>-0.001653</td>\n",
              "      <td>-0.063591</td>\n",
              "      <td>-0.145925</td>\n",
              "      <td>0.136992</td>\n",
              "      <td>0.037914</td>\n",
              "      <td>0.001461</td>\n",
              "      <td>0.004131</td>\n",
              "      <td>0.005495</td>\n",
              "      <td>1.000000</td>\n",
              "      <td>0.224788</td>\n",
              "    </tr>\n",
              "    <tr>\n",
              "      <th>Transforgeneration</th>\n",
              "      <td>0.244788</td>\n",
              "      <td>-0.097829</td>\n",
              "      <td>-0.057434</td>\n",
              "      <td>-0.061426</td>\n",
              "      <td>0.064508</td>\n",
              "      <td>0.071380</td>\n",
              "      <td>0.010396</td>\n",
              "      <td>0.003555</td>\n",
              "      <td>0.224788</td>\n",
              "      <td>1.000000</td>\n",
              "    </tr>\n",
              "  </tbody>\n",
              "</table>\n",
              "</div>"
            ],
            "text/plain": [
              "                        year  suicides_no  ...  Transforage  Transforgeneration\n",
              "year                1.000000    -0.011497  ...    -0.001653            0.244788\n",
              "suicides_no        -0.011497     1.000000  ...    -0.063591           -0.097829\n",
              "population          0.008853     0.702524  ...    -0.145925           -0.057434\n",
              "suicides100kPop    -0.046190     0.546282  ...     0.136992           -0.061426\n",
              "GdpForYearMoney     0.203511     0.578116  ...     0.037914            0.064508\n",
              "GdpPerCapitalMoney  0.336439     0.122907  ...     0.001461            0.071380\n",
              "Transforcountry     0.021220     0.062630  ...     0.004131            0.010396\n",
              "Transforsex         0.000864     0.199559  ...     0.005495            0.003555\n",
              "Transforage        -0.001653    -0.063591  ...     1.000000            0.224788\n",
              "Transforgeneration  0.244788    -0.097829  ...     0.224788            1.000000\n",
              "\n",
              "[10 rows x 10 columns]"
            ]
          },
          "metadata": {
            "tags": []
          },
          "execution_count": 244
        }
      ]
    },
    {
      "cell_type": "markdown",
      "metadata": {
        "id": "ERrqQBU15Ar2",
        "colab_type": "text"
      },
      "source": [
        "## 5. Conclusion\n",
        "\n",
        "In this data mining project, we used 3 different regressors to build and train data, Decision Tree, Random Forest and Support Vector Regression. We sorted the datasets into 2 parts, testing data and training data for the prediction. We inserted the same data to each regressor, and make sure each regressor that has a configuration for producing the highest accuracy, and reducing bias.\n",
        "\n",
        "The highest accuracy is produced by Decision Tree in this data mining project. Decision Tree has a great classification purpose in this project because it only choose the best prediction and not end until the prediction ends. Furthermore, In the Support Vector Regression, by testing and adjusting the C value, we increased the exact accuracy from 5% to 13%, but results still did not reach our expectations. It may be that the model is not suitable for this dataset, or the previous data pre-processing method cannot work correctly with the model. Finally, the accuracy of Random Forest is 68.98% \n",
        "\n"
      ]
    },
    {
      "cell_type": "markdown",
      "metadata": {
        "id": "VEaYt9et5GfG",
        "colab_type": "text"
      },
      "source": [
        "##6. Ethical\n",
        "\n",
        "The reason of making this model to find the signals of increasing suicide rates globally. There would be inaccuracies in the prediction due to: Insufficient sample data, not enough parameters and special circumstances which cannot be forecasted.\n",
        "\n",
        "If we follow the utilitarian approach, we need to consider all circumstances or possibilities, then we are not able to make the rules, or, the rules may include too many parameters and is extremely difficult to come up. Because, right or wrong of this model is decided by the outcome, but the future is hard to predict, so it's hard to make a model given so many uncertainties need to be considered. The current regressions are following the Kantian rule-based approach. The rules are limited, so it cannot cover all possible cases, for instance, we can’t use this model to predict all the suicides number globally.\n",
        "\n",
        "In this model, we try to include as many rules as we can, to make the prediction more accurate, and this is the best we can do, but the prediction cannot be exact as the actual number. The number for prediction is just for studying and researching, not really for suicides prevention.\n"
      ]
    },
    {
      "cell_type": "markdown",
      "metadata": {
        "id": "QjVLYDPy5ZGI",
        "colab_type": "text"
      },
      "source": [
        "## 7. Consolidated Code"
      ]
    },
    {
      "cell_type": "code",
      "metadata": {
        "id": "ONa_ptL-AMs0",
        "colab_type": "code",
        "colab": {}
      },
      "source": [
        "import pandas as panda\n",
        "import numpy as np\n",
        "!pip install -U -q PyDrive\n",
        "from pydrive.auth import GoogleAuth\n",
        "from pydrive.drive import GoogleDrive\n",
        "from google.colab import auth\n",
        "from oauth2client.client import GoogleCredentials\n",
        "import matplotlib.pyplot as plt\n",
        "from sklearn.preprocessing import LabelEncoder\n",
        "from sklearn import tree\n",
        "from sklearn.model_selection import train_test_split\n",
        "\n",
        "from sklearn.metrics import classification_report, confusion_matrix\n",
        "from sklearn.metrics import accuracy_score\n",
        "\n",
        "from sklearn.neighbors import NearestNeighbors\n",
        "from sklearn.tree import DecisionTreeRegressor\n",
        "from sklearn.metrics import r2_score\n",
        "\n",
        "from sklearn import metrics\n",
        "from IPython.display import Image  \n",
        "from sklearn.tree import export_graphviz\n",
        "import graphviz"
      ],
      "execution_count": 0,
      "outputs": []
    },
    {
      "cell_type": "code",
      "metadata": {
        "id": "Yp-opJfxG1oQ",
        "colab_type": "code",
        "outputId": "5abcf28e-debd-4faa-f829-a4879b00029c",
        "colab": {
          "base_uri": "https://localhost:8080/",
          "height": 34
        }
      },
      "source": [
        "from google.colab import drive\n",
        "drive.mount('/content/gdrive')"
      ],
      "execution_count": 114,
      "outputs": [
        {
          "output_type": "stream",
          "text": [
            "Drive already mounted at /content/gdrive; to attempt to forcibly remount, call drive.mount(\"/content/gdrive\", force_remount=True).\n"
          ],
          "name": "stdout"
        }
      ]
    },
    {
      "cell_type": "code",
      "metadata": {
        "id": "4V-BvLtwCp_Q",
        "colab_type": "code",
        "colab": {}
      },
      "source": [
        "dataset = panda.read_csv( \"/content/gdrive/My Drive/master.csv\")"
      ],
      "execution_count": 0,
      "outputs": []
    },
    {
      "cell_type": "code",
      "metadata": {
        "id": "J9EQd-VV6yGl",
        "colab_type": "code",
        "colab": {}
      },
      "source": [
        "dataset=dataset.rename(columns={'suicides/100k pop':'suicides100kPop','HDI for year':'HDIForYear',' gdp_for_year ($) ':'GdpForYearMoney',\n",
        "                          'gdp_per_capita ($)':'GdpPerCapitalMoney'})"
      ],
      "execution_count": 0,
      "outputs": []
    },
    {
      "cell_type": "code",
      "metadata": {
        "id": "6dd9EUh_HdCE",
        "colab_type": "code",
        "colab": {}
      },
      "source": [
        "dataset.head(10)"
      ],
      "execution_count": 0,
      "outputs": []
    },
    {
      "cell_type": "code",
      "metadata": {
        "id": "FGs98uusFFLu",
        "colab_type": "code",
        "colab": {}
      },
      "source": [
        "#Check all the null value in the dataset\n",
        "dataset.isnull().sum()"
      ],
      "execution_count": 0,
      "outputs": []
    },
    {
      "cell_type": "code",
      "metadata": {
        "id": "BAX3jPx7FHnP",
        "colab_type": "code",
        "colab": {}
      },
      "source": [
        "#Because there are more than 50% missing value of HDIForYear, so we drop this column\n",
        "dataset = dataset.drop('HDIForYear',axis=1)"
      ],
      "execution_count": 0,
      "outputs": []
    },
    {
      "cell_type": "code",
      "metadata": {
        "id": "6FAKyx1ipMly",
        "colab_type": "code",
        "colab": {}
      },
      "source": [
        "dataset = dataset.drop('year',axis=1)"
      ],
      "execution_count": 0,
      "outputs": []
    },
    {
      "cell_type": "code",
      "metadata": {
        "id": "SOsBsd3qFN2K",
        "colab_type": "code",
        "colab": {}
      },
      "source": [
        "#to delete the symbol in the dataset\n",
        "checksymbol = dataset.columns\n",
        "dataset[checksymbol]=dataset[checksymbol].replace({'\\,':''}, regex = True)"
      ],
      "execution_count": 0,
      "outputs": []
    },
    {
      "cell_type": "code",
      "metadata": {
        "id": "3lDEsVTAjq8O",
        "colab_type": "code",
        "colab": {}
      },
      "source": [
        "#check all the non-zero values in the dataset\n",
        "dataset.count(axis = 0)"
      ],
      "execution_count": 0,
      "outputs": []
    },
    {
      "cell_type": "code",
      "metadata": {
        "id": "5mT7_FR80NfU",
        "colab_type": "code",
        "colab": {}
      },
      "source": [
        "# drop all the zero values in suicides_no\n",
        "dataset = dataset[(dataset[['suicides_no','suicides100kPop']] != 0).all(axis=1)]"
      ],
      "execution_count": 0,
      "outputs": []
    },
    {
      "cell_type": "code",
      "metadata": {
        "id": "myDiH6Dvm2CJ",
        "colab_type": "code",
        "colab": {}
      },
      "source": [
        "#Country-year is similar to the combination of year and country, and becuase keep both, so can drop country-year\n",
        "dataset = dataset.drop('country-year', axis = 1)"
      ],
      "execution_count": 0,
      "outputs": []
    },
    {
      "cell_type": "code",
      "metadata": {
        "id": "noFfQVnyxufa",
        "colab_type": "code",
        "colab": {}
      },
      "source": [
        "#Check the datatype of each features\n",
        "dataset.dtypes"
      ],
      "execution_count": 0,
      "outputs": []
    },
    {
      "cell_type": "code",
      "metadata": {
        "id": "uFZkMhUWXMsO",
        "colab_type": "code",
        "colab": {}
      },
      "source": [
        "#change GdpForYearMoney to int\n",
        "dataset['GdpForYearMoney'] = dataset.GdpForYearMoney.astype(int)"
      ],
      "execution_count": 0,
      "outputs": []
    },
    {
      "cell_type": "markdown",
      "metadata": {
        "id": "6hDc51vBulLF",
        "colab_type": "text"
      },
      "source": [
        "Identify related data type"
      ]
    },
    {
      "cell_type": "code",
      "metadata": {
        "id": "R3ssTUqB0uVS",
        "colab_type": "code",
        "colab": {
          "base_uri": "https://localhost:8080/",
          "height": 170
        },
        "outputId": "186ff3b3-4ab5-46bb-a287-ae0874543980"
      },
      "source": [
        "dataset['population'].describe()"
      ],
      "execution_count": 181,
      "outputs": [
        {
          "output_type": "execute_result",
          "data": {
            "text/plain": [
              "count    2.782000e+04\n",
              "mean     1.844794e+06\n",
              "std      3.911779e+06\n",
              "min      2.780000e+02\n",
              "25%      9.749850e+04\n",
              "50%      4.301500e+05\n",
              "75%      1.486143e+06\n",
              "max      4.380521e+07\n",
              "Name: population, dtype: float64"
            ]
          },
          "metadata": {
            "tags": []
          },
          "execution_count": 181
        }
      ]
    },
    {
      "cell_type": "code",
      "metadata": {
        "id": "dc-cpmNuHUNh",
        "colab_type": "code",
        "colab": {}
      },
      "source": [
        "dataset['country'].value_counts()"
      ],
      "execution_count": 0,
      "outputs": []
    },
    {
      "cell_type": "code",
      "metadata": {
        "id": "9ubJ3bZZpnh9",
        "colab_type": "code",
        "colab": {}
      },
      "source": [
        "dataset['year'].value_counts().plot('bar')"
      ],
      "execution_count": 0,
      "outputs": []
    },
    {
      "cell_type": "code",
      "metadata": {
        "id": "qLhlNVIau1TM",
        "colab_type": "code",
        "colab": {}
      },
      "source": [
        "dataset['sex'].value_counts().plot('pie')"
      ],
      "execution_count": 0,
      "outputs": []
    },
    {
      "cell_type": "code",
      "metadata": {
        "id": "EymHjNEjV76e",
        "colab_type": "code",
        "colab": {}
      },
      "source": [
        "dataset['generation'].value_counts().plot('bar')"
      ],
      "execution_count": 0,
      "outputs": []
    },
    {
      "cell_type": "code",
      "metadata": {
        "id": "Dkvmnnk_Vl-U",
        "colab_type": "code",
        "colab": {}
      },
      "source": [
        "dataset['age'].value_counts().plot('bar')"
      ],
      "execution_count": 0,
      "outputs": []
    },
    {
      "cell_type": "code",
      "metadata": {
        "id": "cLWOV51BVubR",
        "colab_type": "code",
        "colab": {}
      },
      "source": [
        "dataset['suicides_no'].describe()"
      ],
      "execution_count": 0,
      "outputs": []
    },
    {
      "cell_type": "code",
      "metadata": {
        "id": "Y6xGK8H4WK7T",
        "colab_type": "code",
        "colab": {}
      },
      "source": [
        "dataset['suicides100kPop'].describe()"
      ],
      "execution_count": 0,
      "outputs": []
    },
    {
      "cell_type": "code",
      "metadata": {
        "id": "WPASPcY5p7Ic",
        "colab_type": "code",
        "colab": {}
      },
      "source": [
        "dataset['sex'].value_counts().plot('bar')"
      ],
      "execution_count": 0,
      "outputs": []
    },
    {
      "cell_type": "code",
      "metadata": {
        "id": "77N9CSm9vY0E",
        "colab_type": "code",
        "colab": {}
      },
      "source": [
        "dataset['Transforgeneration'].value_counts().plot('bar')"
      ],
      "execution_count": 0,
      "outputs": []
    },
    {
      "cell_type": "markdown",
      "metadata": {
        "id": "JWVFoKvovHKl",
        "colab_type": "text"
      },
      "source": [
        "The following code is for transfor the data from string to number， if we drop these data already, we do not need to do the following code "
      ]
    },
    {
      "cell_type": "code",
      "metadata": {
        "id": "fUr2VAmB5L7w",
        "colab_type": "code",
        "colab": {}
      },
      "source": [
        "trans = LabelEncoder()\n",
        "Transforcountry=trans.fit_transform(dataset['country'])\n",
        "transMappings = {index: label for index, label in \n",
        "                  enumerate(trans.classes_)}\n",
        "dataset['Transforcountry'] = Transforcountry\n",
        "dataset.Transforcountry.unique()\n",
        "#Removing the Category column as a column with numbers is appended\n",
        "dataset = dataset.drop('country',axis=1)\n"
      ],
      "execution_count": 0,
      "outputs": []
    },
    {
      "cell_type": "code",
      "metadata": {
        "id": "HYNGlN-oKCg5",
        "colab_type": "code",
        "colab": {}
      },
      "source": [
        "#trans = LabelEncoder()\n",
        "Transforsex=trans.fit_transform(dataset['sex'])\n",
        "transMappings = {index: label for index, label in \n",
        "                  enumerate(trans.classes_)}\n",
        "dataset['Transforsex'] = Transforsex\n",
        "dataset.Transforsex.unique()\n",
        "#Removing the Category column as a column with numbers is appended\n",
        "dataset = dataset.drop('sex',axis=1)\n"
      ],
      "execution_count": 0,
      "outputs": []
    },
    {
      "cell_type": "code",
      "metadata": {
        "id": "4uNi1uJ9KDG_",
        "colab_type": "code",
        "colab": {}
      },
      "source": [
        "#trans = LabelEncoder()\n",
        "Transforage=trans.fit_transform(dataset['age'])\n",
        "transMappings = {index: label for index, label in \n",
        "                  enumerate(trans.classes_)}\n",
        "dataset['Transforage'] = Transforage\n",
        "dataset.Transforage.unique()\n",
        "#Removing the Category column as a column with numbers is appended\n",
        "dataset = dataset.drop('age',axis=1)\n"
      ],
      "execution_count": 0,
      "outputs": []
    },
    {
      "cell_type": "code",
      "metadata": {
        "id": "Zz6pz7uIA0bO",
        "colab_type": "code",
        "colab": {}
      },
      "source": [
        "#trans = LabelEncoder()\n",
        "Transforgeneration=trans.fit_transform(dataset['generation'])\n",
        "transMappings = {index: label for index, label in \n",
        "                  enumerate(trans.classes_)}\n",
        "dataset['Transforgeneration'] = Transforgeneration\n",
        "dataset.Transforgeneration.unique()\n",
        "dataset = dataset.drop('generation',axis=1)"
      ],
      "execution_count": 0,
      "outputs": []
    },
    {
      "cell_type": "code",
      "metadata": {
        "id": "qKYDyoOJefg1",
        "colab_type": "code",
        "colab": {}
      },
      "source": [
        "dataset.corr(method='spearman')"
      ],
      "execution_count": 0,
      "outputs": []
    },
    {
      "cell_type": "code",
      "metadata": {
        "id": "oXGGIkKrVVGV",
        "colab_type": "code",
        "colab": {}
      },
      "source": [
        "#Partitioning data\n",
        "X= dataset.drop('suicides_no',axis=1)\n",
        "Y= dataset['suicides_no']"
      ],
      "execution_count": 0,
      "outputs": []
    },
    {
      "cell_type": "code",
      "metadata": {
        "id": "7mTcyrz_8DhH",
        "colab_type": "code",
        "colab": {}
      },
      "source": [
        "# testing and training data of decision tree\n",
        "dt_Xtraining, dt_Xtesting, dt_Ytraining, dt_Ytesting = train_test_split(X, Y, test_size=0.20, random_state = 100) "
      ],
      "execution_count": 0,
      "outputs": []
    },
    {
      "cell_type": "code",
      "metadata": {
        "id": "yrQzkBXLFoyh",
        "colab_type": "code",
        "colab": {}
      },
      "source": [
        "model =  DecisionTreeRegressor(random_state= 100)\n",
        "model.fit(dt_Xtraining, dt_Ytraining)\n",
        "y_pred = model.predict(X)"
      ],
      "execution_count": 0,
      "outputs": []
    },
    {
      "cell_type": "code",
      "metadata": {
        "id": "LRaRIkdoHDBj",
        "colab_type": "code",
        "outputId": "23204f59-4dba-4981-d4fb-526b22a8125c",
        "colab": {
          "base_uri": "https://localhost:8080/",
          "height": 34
        }
      },
      "source": [
        "#Accuracy for Decision Tree\n",
        "print(\"Accuracy for Decision Tree:\", r2_score(Y, y_pred)) "
      ],
      "execution_count": 107,
      "outputs": [
        {
          "output_type": "stream",
          "text": [
            "Accuracy for Decision Tree: 0.9990662624532448\n"
          ],
          "name": "stdout"
        }
      ]
    },
    {
      "cell_type": "markdown",
      "metadata": {
        "id": "lA6ILmqOvmUY",
        "colab_type": "text"
      },
      "source": [
        "Following code is used to do SVR"
      ]
    },
    {
      "cell_type": "code",
      "metadata": {
        "id": "pizAAQq9Op9E",
        "colab_type": "code",
        "colab": {}
      },
      "source": [
        "X_training, X_testing, Y_training, Y_testing = train_test_split(X, Y, test_size=0.20, random_state = 100)  "
      ],
      "execution_count": 0,
      "outputs": []
    },
    {
      "cell_type": "code",
      "metadata": {
        "id": "slnZPVbWP7x-",
        "colab_type": "code",
        "colab": {}
      },
      "source": [
        "print('Training Features Shape:', X_training.shape)\n",
        "print('Training Labels Shape:', Y_training.shape)\n",
        "print('Testing Features Shape:', X_testing.shape)\n",
        "print('Testing Labels Shape:', Y_testing.shape)"
      ],
      "execution_count": 0,
      "outputs": []
    },
    {
      "cell_type": "code",
      "metadata": {
        "id": "CYwHUhdIdCZg",
        "colab_type": "code",
        "colab": {}
      },
      "source": [
        "from sklearn.svm import SVR\n",
        "import numpy as np\n",
        "\n",
        "clf = SVR(gamma = 'scale', C = 1.0, epsilon = 0.5)\n",
        "clf.fit(dt_Xtraining,dt_Ytraining)\n",
        "y_pred = clf.predict(X)"
      ],
      "execution_count": 0,
      "outputs": []
    },
    {
      "cell_type": "code",
      "metadata": {
        "id": "q3vW5-jEP0LM",
        "colab_type": "code",
        "outputId": "bcb77409-a038-407a-dc36-31ba26cc8f42",
        "colab": {
          "base_uri": "https://localhost:8080/",
          "height": 34
        }
      },
      "source": [
        "print(\"Accuracy for SVR:\", r2_score(Y, y_pred)) "
      ],
      "execution_count": 123,
      "outputs": [
        {
          "output_type": "stream",
          "text": [
            "Accuracy for SVR: 0.039167466631960024\n"
          ],
          "name": "stdout"
        }
      ]
    },
    {
      "cell_type": "markdown",
      "metadata": {
        "id": "dsUshsibvvMD",
        "colab_type": "text"
      },
      "source": [
        "Following code is used to do Random forest regession"
      ]
    },
    {
      "cell_type": "code",
      "metadata": {
        "id": "_rAqEl6bWAIA",
        "colab_type": "code",
        "colab": {}
      },
      "source": [
        "from sklearn.ensemble import RandomForestRegressor\n",
        "#from sklearn.datasets import make_regression\n",
        "\n",
        "rf_Xtrainging, rf_Xtesting, rf_Ytraining, rf_Ytesting = train_test_split(X, Y, test_size=0.20, random_state = 100) "
      ],
      "execution_count": 0,
      "outputs": []
    },
    {
      "cell_type": "code",
      "metadata": {
        "id": "PpB8FWyGWAXf",
        "colab_type": "code",
        "colab": {}
      },
      "source": [
        "regr = RandomForestRegressor(max_depth=2, random_state=0,n_estimators=100)"
      ],
      "execution_count": 0,
      "outputs": []
    },
    {
      "cell_type": "code",
      "metadata": {
        "id": "S_Otzx5uz9yF",
        "colab_type": "code",
        "colab": {}
      },
      "source": [
        "regr.fit(rf_Xtrainging, rf_Ytraining)"
      ],
      "execution_count": 0,
      "outputs": []
    },
    {
      "cell_type": "code",
      "metadata": {
        "id": "ufJtURSC0Y6s",
        "colab_type": "code",
        "colab": {
          "base_uri": "https://localhost:8080/",
          "height": 34
        },
        "outputId": "17615985-2e89-49a5-9d79-8db4488c616e"
      },
      "source": [
        "print(\"Accuracy for Random-Forest:\", r2_score(Y, regr.predict(X)))"
      ],
      "execution_count": 66,
      "outputs": [
        {
          "output_type": "stream",
          "text": [
            "Accuracy for Random-Forest: 0.6835021803817833\n"
          ],
          "name": "stdout"
        }
      ]
    }
  ]
}